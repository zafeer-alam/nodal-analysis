{
 "cells": [
  {
   "cell_type": "markdown",
   "metadata": {
    "id": "iEFO8vw3nmKj"
   },
   "source": [
    "**NODAL POINT ANALYSIS:**\n",
    "\n",
    "\n",
    "---\n",
    "\n"
   ]
  },
  {
   "cell_type": "markdown",
   "metadata": {
    "id": "nsQRd8mon9cT"
   },
   "source": [
    "**Analysis With the Bottom Hole Node**\n",
    "\n",
    "- Nodal analysis is performed on the principle\n",
    "of pressure continuity.\n",
    "- When the bottom-hole is used as a solution node in Nodal\n",
    "analysis, the inflow performance is the well inflow performance relationship (IPR) and the outflow performance\n",
    "is the tubing performance relationship (TPR)\n",
    "- The effect of Tubing diameter can be visualized with the interactive Plot"
   ]
  },
  {
   "cell_type": "markdown",
   "metadata": {
    "id": "AhJTrPjQovcA"
   },
   "source": [
    "**Well Data:**"
   ]
  },
  {
   "cell_type": "code",
   "execution_count": 1,
   "metadata": {
    "id": "UAIQsYKMn220"
   },
   "outputs": [],
   "source": [
    "# Given Data of Oil well\n",
    "Pres = 3500 # psia (above Bubble Point)\n",
    "D = 1.30 # (Default tubing ID) \n",
    "Pwellhead = 500 # psia\n",
    "J = 1 # (above bubble Point)\n",
    "GLR = 1000 # scf/stb\n",
    "WC = 0.25 # (watercut)\n",
    "oil_API = 30 # degree\n",
    "Yw = 1.05\n",
    "Yg = 0.65\n",
    "Bo = 1.2 # rb/stb\n",
    "Twellhead = 100 # degree F\n",
    "Tubing_shoe_depth = 5000 # ft\n",
    "Tbottomhole = 150 # degree F"
   ]
  },
  {
   "cell_type": "markdown",
   "metadata": {
    "id": "Od0F5GpppEdN"
   },
   "source": [
    "**Importing Required Libraries**"
   ]
  },
  {
   "cell_type": "code",
   "execution_count": 2,
   "metadata": {
    "id": "-tFqG99io81H"
   },
   "outputs": [],
   "source": [
    "# Importing libraries\n",
    "import numpy as np\n",
    "import pandas as pd\n",
    "import matplotlib.pyplot as plt\n",
    "\n",
    "# Python Slider Widget\n",
    "import ipywidgets as wg\n",
    "from IPython.display import display"
   ]
  },
  {
   "cell_type": "markdown",
   "metadata": {
    "id": "bPv9woStpdSU"
   },
   "source": [
    "**IPR MODEL USED:**\n",
    "\n",
    "The most simplest model as the reservoir pressure is above Pb\n",
    "\n",
    "Qo = J*(Pres - Pwf)\n",
    "\n",
    "**TPR MODEL USED:**\n",
    "\n",
    "Poettmann–Carpenter’s model which considers multiphase flow in the tubing. It uses friction factor but does not take liquid viscosity into account.\n",
    "\n",
    "Pwf = Pwh + (Rho_mix + k/Rho_mix)H/144\n",
    "\n",
    "where k = (f Qo^2 M^2) / (7.4137 10^10 D^5))\n"
   ]
  },
  {
   "cell_type": "markdown",
   "metadata": {
    "id": "AJy3qLP6tJvk"
   },
   "source": [
    "**Calculating Parameters that will not change during Iteration**"
   ]
  },
  {
   "cell_type": "code",
   "execution_count": 3,
   "metadata": {
    "id": "TQkkIWonpMYg"
   },
   "outputs": [],
   "source": [
    "# Oil specific Gravity\n",
    "Yo = 141.5/(131.5+oil_API)\n",
    "\n",
    "# Mass associated with 1 stb of oil \n",
    "GOR = GLR /(1-WC)\n",
    "WOR = WC/(1-WC)\n",
    "M = (350.17 * (Yo + 0.33 * Yw) )+ (GOR*Yg*0.0765)\n",
    "\n",
    "# WELL HEAD parameters \n",
    "Rs_head = Yg*pow(( (Pwellhead/18)* (pow(10, 0.0125*oil_API)/pow(10, 0.00091*Twellhead))), 1.2048)\n",
    "Bo_head = 0.9759 + 0.00012*pow((Rs_head*pow(Yg/Yo, 0.5) + 1.25*Twellhead), 1.2)\n",
    "Vm_head = 5.615*(Bo_head + WC * Bo) +(GOR - Rs_head)*(14.7/Pwellhead)*((Twellhead+460)/520)*(0.9318)\n",
    "\n",
    "Rho_head = M/Vm_head "
   ]
  },
  {
   "cell_type": "markdown",
   "metadata": {
    "id": "_S1ZufgKu7aI"
   },
   "source": [
    "**ITERATION**"
   ]
  },
  {
   "cell_type": "code",
   "execution_count": 4,
   "metadata": {
    "id": "oInPmUP_DCK-"
   },
   "outputs": [],
   "source": [
    "def ipr_tpr(d):\n",
    "  Ql = 500 # Assumed Initial Value \n",
    "  Aof = J*Pres # Max value of Q\n",
    "\n",
    "  # Containers for ipr, tpr pressures and flow rates\n",
    "  ipr = []\n",
    "  tpr = []\n",
    "  Q = []\n",
    "  D = d\n",
    "  while Ql<Aof:\n",
    " \n",
    "    Qo = Ql-Ql*WC\n",
    "\n",
    "    # PWf from IPR model\n",
    "    Pwf_ipr = Pres - Qo/J \n",
    "    ipr.append(Pwf_ipr)\n",
    "\n",
    "    # BOTTOM HOLE PARAMETERS\n",
    "    Rs_bottom = Yg*pow(( (Pwf_ipr/18)* (pow(10, 0.0125*oil_API)/pow(10, 0.00091*Tbottomhole))), 1.2048)\n",
    "    Bo_bottom = 0.9759 + 0.00012*pow((Rs_bottom*pow(Yg/Yo, 0.5) + 1.25*Tbottomhole), 1.2)\n",
    "    Vm_bottom = 5.615*(Bo_bottom + WC * Bo) +(GOR - Rs_bottom)*(14.7/Pwf_ipr)*((Tbottomhole+460)/520)*(0.9318)\n",
    "    Rho_bottom = M/Vm_bottom\n",
    "    \n",
    "    Rho_mixture = (Rho_head + Rho_bottom)/2\n",
    "    \n",
    "    # Inertial Force\n",
    "    rdv = 1.4737*pow(10,-5)*M*(Qo)*12/D\n",
    "    \n",
    "    # Friction Factor\n",
    "    f = 4*(pow(10, 1.444 - 2.5*np.log10(rdv)))\n",
    "    \n",
    "    # Friction term\n",
    "    K = f*Qo*Qo*M*M/(7.4137*pow(10,10)*pow(D/12,5))\n",
    "    \n",
    "    # Pwf from TPR model\n",
    "    Pwf_tpr = Pwellhead + (Rho_mixture  + K/Rho_mixture )*(Tubing_shoe_depth/144)\n",
    "    tpr.append(Pwf_tpr)\n",
    "    \n",
    "    # For Q when Error is very less than that is our operational Point \n",
    "    error = abs(Pwf_ipr - Pwf_tpr)\n",
    "    if(error<4):print(\"Operational Bottom Hole Pressure: \",(Pwf_ipr)); print(\"Operational Flow Rate: \",(Qo))\n",
    "    \n",
    "    Q.append(Qo)\n",
    "    Ql = Ql + 10 \n",
    "    \n",
    "  return ipr, tpr,Q"
   ]
  },
  {
   "cell_type": "markdown",
   "metadata": {
    "id": "6M5bnvDpvl-w"
   },
   "source": [
    "**TPR and IPR Interactive Plot**"
   ]
  },
  {
   "cell_type": "code",
   "execution_count": 5,
   "metadata": {
    "id": "CE6O4Q97yeif"
   },
   "outputs": [],
   "source": [
    "def myplot(d):\n",
    "  \n",
    "  D = d\n",
    "  ipr, tpr, Q = ipr_tpr(D)\n",
    " \n",
    "  # Plotting Curves\n",
    "  plt.style.use('default')    \n",
    "  plt.plot(Q, ipr, label='IPR')\n",
    "  plt.plot(Q, tpr, label='TPR')    \n",
    "  plt.title('Operational Point Visualization')\n",
    "\n",
    "  plt.xlabel('Qo, stb/day')\n",
    "  plt.ylabel(\"Pwf, Psia\")\n",
    "  plt.legend()\n",
    "  plt.grid()"
   ]
  },
  {
   "cell_type": "code",
   "execution_count": 8,
   "metadata": {
    "colab": {
     "base_uri": "https://localhost:8080/",
     "height": 555,
     "referenced_widgets": [
      "fee2dc8453a14d85a8c88f2a510c7c52",
      "07bbe733119944e39dcc965345ff6c63",
      "bf98c2685029426c95eb212d692e9d6a",
      "453603c1e38a4e1385f30f05ece3b045",
      "f5069d400959421c85c63c626734471a",
      "08134131dd1f41bca1460e9021315a75",
      "4429dcdb7cef4132a404672173b5e47e"
     ]
    },
    "id": "_8M7_Wd0GCN7",
    "outputId": "2ff606d2-fb11-47a3-bb9c-04b0a11bc6cf"
   },
   "outputs": [
    {
     "data": {
      "application/vnd.jupyter.widget-view+json": {
       "model_id": "df7555e4ed484b9db8a5e747c9fbbbbd",
       "version_major": 2,
       "version_minor": 0
      },
      "text/plain": [
       "interactive(children=(FloatSlider(value=1.66, description='d', max=5.0, min=1.3, step=0.2), Output()), _dom_cl…"
      ]
     },
     "metadata": {},
     "output_type": "display_data"
    },
    {
     "data": {
      "text/plain": [
       "<function __main__.myplot(d)>"
      ]
     },
     "execution_count": 8,
     "metadata": {},
     "output_type": "execute_result"
    }
   ],
   "source": [
    "c_slide = wg.FloatSlider(value = 1.66, min = 1.3, max = 5, step = 0.2)\n",
    "wg.interact(myplot, d = c_slide)"
   ]
  },
  {
   "cell_type": "markdown",
   "metadata": {
    "id": "nMzr5tAKGVcz"
   },
   "source": [
    "**Conclusion-**\n",
    "\n",
    "When we are Increasing the Diameter of the tubing the Stable Flow rate increses This is happenning because the frictional pressure loss is decreasing as it is inversely proportional to the tubing diameter."
   ]
  },
  {
   "cell_type": "code",
   "execution_count": null,
   "metadata": {},
   "outputs": [],
   "source": []
  }
 ],
 "metadata": {
  "colab": {
   "name": "NodalPointAnalysis.ipynb",
   "provenance": []
  },
  "kernelspec": {
   "display_name": "Python 3 (ipykernel)",
   "language": "python",
   "name": "python3"
  },
  "language_info": {
   "codemirror_mode": {
    "name": "ipython",
    "version": 3
   },
   "file_extension": ".py",
   "mimetype": "text/x-python",
   "name": "python",
   "nbconvert_exporter": "python",
   "pygments_lexer": "ipython3",
   "version": "3.11.3"
  },
  "widgets": {
   "application/vnd.jupyter.widget-state+json": {
    "07bbe733119944e39dcc965345ff6c63": {
     "model_module": "@jupyter-widgets/base",
     "model_name": "LayoutModel",
     "state": {
      "_model_module": "@jupyter-widgets/base",
      "_model_module_version": "1.2.0",
      "_model_name": "LayoutModel",
      "_view_count": null,
      "_view_module": "@jupyter-widgets/base",
      "_view_module_version": "1.2.0",
      "_view_name": "LayoutView",
      "align_content": null,
      "align_items": null,
      "align_self": null,
      "border": null,
      "bottom": null,
      "display": null,
      "flex": null,
      "flex_flow": null,
      "grid_area": null,
      "grid_auto_columns": null,
      "grid_auto_flow": null,
      "grid_auto_rows": null,
      "grid_column": null,
      "grid_gap": null,
      "grid_row": null,
      "grid_template_areas": null,
      "grid_template_columns": null,
      "grid_template_rows": null,
      "height": null,
      "justify_content": null,
      "justify_items": null,
      "left": null,
      "margin": null,
      "max_height": null,
      "max_width": null,
      "min_height": null,
      "min_width": null,
      "object_fit": null,
      "object_position": null,
      "order": null,
      "overflow": null,
      "overflow_x": null,
      "overflow_y": null,
      "padding": null,
      "right": null,
      "top": null,
      "visibility": null,
      "width": null
     }
    },
    "08134131dd1f41bca1460e9021315a75": {
     "model_module": "@jupyter-widgets/base",
     "model_name": "LayoutModel",
     "state": {
      "_model_module": "@jupyter-widgets/base",
      "_model_module_version": "1.2.0",
      "_model_name": "LayoutModel",
      "_view_count": null,
      "_view_module": "@jupyter-widgets/base",
      "_view_module_version": "1.2.0",
      "_view_name": "LayoutView",
      "align_content": null,
      "align_items": null,
      "align_self": null,
      "border": null,
      "bottom": null,
      "display": null,
      "flex": null,
      "flex_flow": null,
      "grid_area": null,
      "grid_auto_columns": null,
      "grid_auto_flow": null,
      "grid_auto_rows": null,
      "grid_column": null,
      "grid_gap": null,
      "grid_row": null,
      "grid_template_areas": null,
      "grid_template_columns": null,
      "grid_template_rows": null,
      "height": null,
      "justify_content": null,
      "justify_items": null,
      "left": null,
      "margin": null,
      "max_height": null,
      "max_width": null,
      "min_height": null,
      "min_width": null,
      "object_fit": null,
      "object_position": null,
      "order": null,
      "overflow": null,
      "overflow_x": null,
      "overflow_y": null,
      "padding": null,
      "right": null,
      "top": null,
      "visibility": null,
      "width": null
     }
    },
    "4429dcdb7cef4132a404672173b5e47e": {
     "model_module": "@jupyter-widgets/base",
     "model_name": "LayoutModel",
     "state": {
      "_model_module": "@jupyter-widgets/base",
      "_model_module_version": "1.2.0",
      "_model_name": "LayoutModel",
      "_view_count": null,
      "_view_module": "@jupyter-widgets/base",
      "_view_module_version": "1.2.0",
      "_view_name": "LayoutView",
      "align_content": null,
      "align_items": null,
      "align_self": null,
      "border": null,
      "bottom": null,
      "display": null,
      "flex": null,
      "flex_flow": null,
      "grid_area": null,
      "grid_auto_columns": null,
      "grid_auto_flow": null,
      "grid_auto_rows": null,
      "grid_column": null,
      "grid_gap": null,
      "grid_row": null,
      "grid_template_areas": null,
      "grid_template_columns": null,
      "grid_template_rows": null,
      "height": null,
      "justify_content": null,
      "justify_items": null,
      "left": null,
      "margin": null,
      "max_height": null,
      "max_width": null,
      "min_height": null,
      "min_width": null,
      "object_fit": null,
      "object_position": null,
      "order": null,
      "overflow": null,
      "overflow_x": null,
      "overflow_y": null,
      "padding": null,
      "right": null,
      "top": null,
      "visibility": null,
      "width": null
     }
    },
    "453603c1e38a4e1385f30f05ece3b045": {
     "model_module": "@jupyter-widgets/output",
     "model_name": "OutputModel",
     "state": {
      "_dom_classes": [],
      "_model_module": "@jupyter-widgets/output",
      "_model_module_version": "1.0.0",
      "_model_name": "OutputModel",
      "_view_count": null,
      "_view_module": "@jupyter-widgets/output",
      "_view_module_version": "1.0.0",
      "_view_name": "OutputView",
      "layout": "IPY_MODEL_4429dcdb7cef4132a404672173b5e47e",
      "msg_id": "",
      "outputs": [
       {
        "metadata": {
         "tags": []
        },
        "output_type": "stream",
        "stream": "stdout",
        "text": "Operational Bottom Hole Pressure:  1812.5\nOperational Flow Rate:  1687.5\n"
       },
       {
        "image/png": "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\n",
        "metadata": {
         "tags": []
        },
        "output_type": "display_data",
        "text/plain": "<Figure size 640x480 with 1 Axes>"
       }
      ]
     }
    },
    "bf98c2685029426c95eb212d692e9d6a": {
     "model_module": "@jupyter-widgets/controls",
     "model_name": "FloatSliderModel",
     "state": {
      "_dom_classes": [],
      "_model_module": "@jupyter-widgets/controls",
      "_model_module_version": "1.5.0",
      "_model_name": "FloatSliderModel",
      "_view_count": null,
      "_view_module": "@jupyter-widgets/controls",
      "_view_module_version": "1.5.0",
      "_view_name": "FloatSliderView",
      "continuous_update": true,
      "description": "d",
      "description_tooltip": null,
      "disabled": false,
      "layout": "IPY_MODEL_08134131dd1f41bca1460e9021315a75",
      "max": 5,
      "min": 1.3,
      "orientation": "horizontal",
      "readout": true,
      "readout_format": ".2f",
      "step": 0.2,
      "style": "IPY_MODEL_f5069d400959421c85c63c626734471a",
      "value": 1.5
     }
    },
    "f5069d400959421c85c63c626734471a": {
     "model_module": "@jupyter-widgets/controls",
     "model_name": "SliderStyleModel",
     "state": {
      "_model_module": "@jupyter-widgets/controls",
      "_model_module_version": "1.5.0",
      "_model_name": "SliderStyleModel",
      "_view_count": null,
      "_view_module": "@jupyter-widgets/base",
      "_view_module_version": "1.2.0",
      "_view_name": "StyleView",
      "description_width": "",
      "handle_color": null
     }
    },
    "fee2dc8453a14d85a8c88f2a510c7c52": {
     "model_module": "@jupyter-widgets/controls",
     "model_name": "VBoxModel",
     "state": {
      "_dom_classes": [
       "widget-interact"
      ],
      "_model_module": "@jupyter-widgets/controls",
      "_model_module_version": "1.5.0",
      "_model_name": "VBoxModel",
      "_view_count": null,
      "_view_module": "@jupyter-widgets/controls",
      "_view_module_version": "1.5.0",
      "_view_name": "VBoxView",
      "box_style": "",
      "children": [
       "IPY_MODEL_bf98c2685029426c95eb212d692e9d6a",
       "IPY_MODEL_453603c1e38a4e1385f30f05ece3b045"
      ],
      "layout": "IPY_MODEL_07bbe733119944e39dcc965345ff6c63"
     }
    }
   }
  }
 },
 "nbformat": 4,
 "nbformat_minor": 1
}
